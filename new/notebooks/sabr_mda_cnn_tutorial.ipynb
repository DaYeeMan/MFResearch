{
 "cells": [
  {
   "cell_type": "markdown",
   "metadata": {},
   "source": [
    "# SABR Volatility Surface MDA-CNN Tutorial\n",
    "\n",
    "This notebook demonstrates the complete workflow for SABR volatility surface modeling using Multi-fidelity Data Aggregation CNN (MDA-CNN).\n",
    "\n",
    "## Overview\n",
    "\n",
    "The SABR MDA-CNN system combines:\n",
    "- **High-fidelity Monte Carlo simulations** for accurate volatility surfaces\n",
    "- **Low-fidelity Hagan analytical approximations** for fast surface generation\n",
    "- **MDA-CNN architecture** that learns residuals between MC and Hagan surfaces\n",
    "\n",
    "This approach achieves high accuracy with minimal expensive Monte Carlo data points."
   ]
  },
  {
   "cell_type": "markdown",
   "metadata": {},
   "source": [
    "## Setup and Imports"
   ]
  },
  {
   "cell_type": "code",
   "execution_count": null,
   "metadata": {},
   "outputs": [],
   "source": [
    "# Standard imports\n",
    "import numpy as np\n",
    "import pandas as pd\n",
    "import matplotlib.pyplot as plt\n",
    "import seaborn as sns\n",
    "from pathlib import Path\n",
    "import sys\n",
    "\n",
    "# Add project root to path\n",
    "project_root = Path().absolute().parent\n",
    "sys.path.append(str(project_root))\n",
    "\n",
    "# Project imports\n",
    "from utils.config import ConfigManager\n",
    "from utils.logging_utils import setup_logging\n",
    "from data_generation.sabr_params import SABRParams, GridConfig\n",
    "from data_generation.sabr_mc_generator import SABRMCGenerator\n",
    "from data_generation.hagan_surface_generator import HaganSurfaceGenerator\n",
    "from models.mda_cnn import create_mda_cnn_model\n",
    "from visualization.smile_plotter import SmilePlotter, create_smile_data\n",
    "from visualization.surface_plotter import SurfacePlotter\n",
    "\n",
    "# Set up plotting\n",
    "plt.style.use('seaborn-v0_8')\n",
    "sns.set_palette(\"Set1\")\n",
    "%matplotlib inline\n",
    "\n",
    "# Set up logging\n",
    "setup_logging(level='INFO')\n",
    "\n",
    "print(\"Setup complete!\")"
   ]
  },
  {
   "cell_type": "markdown",
   "metadata": {},
   "source": [
    "## 1. Data Generation\n",
    "\n",
    "First, let's generate SABR volatility surfaces using both Monte Carlo and Hagan methods."
   ]
  },
  {
   "cell_type": "code",
   "execution_count": null,
   "metadata": {},
   "outputs": [],
   "source": [
    "# Define SABR parameters\n",
    "sabr_params = SABRParams(\n",
    "    forward=100.0,\n",
    "    alpha=0.3,\n",
    "    beta=0.7,\n",
    "    nu=0.4,\n",
    "    rho=-0.3\n",
    ")\n",
    "\n",
    "# Define grid configuration\n",
    "grid_config = GridConfig(\n",
    "    strike_range=(70.0, 130.0),\n",
    "    maturity_range=(0.1, 2.0),\n",
    "    n_strikes=20,\n",
    "    n_maturities=10\n",
    ")\n",
    "\n",
    "print(f\"SABR Parameters: {sabr_params}\")\n",
    "print(f\"Grid Configuration: {grid_config}\")\n",
    "print(f\"Total grid points: {grid_config.n_strikes * grid_config.n_maturities}\")"
   ]
  },
  {
   "cell_type": "code",
   "execution_count": null,
   "metadata": {},
   "outputs": [],
   "source": [
    "# Generate high-fidelity Monte Carlo surface\n",
    "print(\"Generating Monte Carlo surface...\")\n",
    "mc_generator = SABRMCGenerator(n_paths=50000, random_seed=42)\n",
    "hf_surface = mc_generator.generate_surface(sabr_params, grid_config)\n",
    "\n",
    "# Generate low-fidelity Hagan surface\n",
    "print(\"Generating Hagan analytical surface...\")\n",
    "hagan_generator = HaganSurfaceGenerator()\n",
    "lf_surface = hagan_generator.generate_surface(sabr_params, grid_config)\n",
    "\n",
    "# Calculate residuals\n",
    "residuals = hf_surface - lf_surface\n",
    "\n",
    "print(f\"HF surface shape: {hf_surface.shape}\")\n",
    "print(f\"LF surface shape: {lf_surface.shape}\")\n",
    "print(f\"Residual statistics:\")\n",
    "print(f\"  Mean: {np.mean(residuals):.6f}\")\n",
    "print(f\"  Std:  {np.std(residuals):.6f}\")\n",
    "print(f\"  Max:  {np.max(np.abs(residuals)):.6f}\")"
   ]
  },
  {
   "cell_type": "markdown",
   "metadata": {},
   "source": [
    "## Command Line Interface Preview\n",
    "\n",
    "Here's how you would use the command-line scripts:"
   ]
  },
  {
   "cell_type": "code",
   "execution_count": null,
   "metadata": {},
   "outputs": [],
   "source": [
    "# Command line examples (for reference)\n",
    "commands = [\n",
    "    \"# Generate training data\",\n",
    "    \"python generate_data.py --n-surfaces 1000 --hf-budget 200 --output-dir data/experiment1\",\n",
    "    \"\",\n",
    "    \"# Train MDA-CNN model\", \n",
    "    \"python train_model.py --data-dir data/experiment1 --model mda_cnn --epochs 100\",\n",
    "    \"\",\n",
    "    \"# Run HF budget analysis\",\n",
    "    \"python train_model.py --data-dir data/experiment1 --hf-budget-analysis --budgets 50 100 200 500\",\n",
    "    \"\",\n",
    "    \"# Evaluate results\",\n",
    "    \"python evaluate_model.py --results-dir results/training_20241201_120000 --comprehensive-analysis\",\n",
    "    \"\",\n",
    "    \"# Generate visualizations\",\n",
    "    \"python evaluate_model.py --results-dir results/ --visualize --interactive\"\n",
    "]\n",
    "\n",
    "print(\"Command Line Usage Examples:\")\n",
    "print(\"=\" * 40)\n",
    "for cmd in commands:\n",
    "    print(cmd)"
   ]
  }
 ],
 "metadata": {
  "kernelspec": {
   "display_name": "Python 3",
   "language": "python",
   "name": "python3"
  },
  "language_info": {
   "codemirror_mode": {
    "name": "ipython",
    "version": 3
   },
   "file_extension": ".py",
   "mimetype": "text/x-python",
   "name": "python",
   "nbconvert_exporter": "python",
   "pygments_lexer": "ipython3",
   "version": "3.8.0"
  }
 },
 "nbformat": 4,
 "nbformat_minor": 4
}